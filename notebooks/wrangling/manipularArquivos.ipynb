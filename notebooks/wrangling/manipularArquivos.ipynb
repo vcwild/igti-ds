{
 "cells": [
  {
   "cell_type": "markdown",
   "metadata": {},
   "source": [
    "# Manipulação de Arquivos em Python"
   ]
  },
  {
   "cell_type": "code",
   "execution_count": 61,
   "metadata": {},
   "outputs": [],
   "source": [
    "import os\n",
    "from datetime import datetime\n",
    "import shutil"
   ]
  },
  {
   "cell_type": "markdown",
   "metadata": {},
   "source": [
    "### Definindo métodos"
   ]
  },
  {
   "cell_type": "code",
   "execution_count": 2,
   "metadata": {},
   "outputs": [],
   "source": [
    "# Definir cor da função print\n",
    "class color:\n",
    "    PURPLE = '\\033[95m'\n",
    "    CYAN = '\\033[96m'\n",
    "    DARKCYAN = '\\033[36m'\n",
    "    BLUE = '\\033[94m'\n",
    "    GREEN = '\\033[92m'\n",
    "    YELLOW = '\\033[93m'\n",
    "    RED = '\\033[91m'\n",
    "    ORANGE = '\\033[33m'\n",
    "    BOLD = '\\033[1m'\n",
    "    UNDERLINE = '\\033[4m'\n",
    "    END = '\\033[0m'"
   ]
  },
  {
   "cell_type": "code",
   "execution_count": 12,
   "metadata": {},
   "outputs": [],
   "source": [
    "# Retorna diretório de Data Sets\n",
    "def setDatasetPath():\n",
    "\n",
    "    return './datasets/'"
   ]
  },
  {
   "cell_type": "code",
   "execution_count": 4,
   "metadata": {},
   "outputs": [],
   "source": [
    "# Método para leitura de arquivo (todo conteúdo)\n",
    "def readFileContent(filename):\n",
    "    try:\n",
    "        fileobject = open(filename, \"r\", encoding='utf-8')\n",
    "        print(color.BOLD+color.BLUE+'\\nO conteúdo do arquivo '+filename+' é: \\n'+color.END)\n",
    "        if fileobject.mode == 'r':\n",
    "            filecontents = fileobject.read()\n",
    "            print(filecontents) # imprime o conteúdo lido\n",
    "        fileobject.close()\n",
    "    except FileNotFoundError:\n",
    "        print(color.BOLD+color.RED+'\\nErro ao tentar ler o arquivo! \\nO arquivo '+filename+' não existe!'+color.END)"
   ]
  },
  {
   "cell_type": "code",
   "execution_count": 5,
   "metadata": {},
   "outputs": [],
   "source": [
    "# Método para leitura do arquivo (ler cada uma das linhas e inserir em uma lista)\n",
    "def readFileLines(filename):\n",
    "    try:\n",
    "        print(color.BOLD+color.BLUE+'\\nAs linhas do arquivo '+filename+' são: \\n'+color.END)\n",
    "        fileobject = open(filename, 'r', encoding='utf-8')\n",
    "        filelines = fileobject.readlines()\n",
    "        \n",
    "        numline = 1\n",
    "        # Imprimir o número da linha\n",
    "        for line in filelines:\n",
    "            print('Linha '+str(numline)+': '+line, end='')\n",
    "            numline += 1\n",
    "\n",
    "        fileobject.close()\n",
    "    except FileNotFoundError:\n",
    "        print(color.BOLD+color.RED+'\\nErro ao tentar ler o arquivo! \\nO arquivo '+filename+' não existe!'+color.END)"
   ]
  },
  {
   "cell_type": "code",
   "execution_count": 26,
   "metadata": {},
   "outputs": [],
   "source": [
    "# Método para alteração de arquivo\n",
    "def appendFile(filename):\n",
    "    fileobject = open(filename, \"a\", encoding='utf-8')\n",
    "    fileobject.write('\\n')\n",
    "    fileobject.write('\\nOlá pessoal!')\n",
    "    now = datetime.now()\n",
    "    date_time = now.strftime('%d/%m/%Y, %H:%M:%S')\n",
    "    fileobject.write('\\n--> Hoje é: '+str(date_time))\n",
    "    fileobject.write('\\n\\n')\n",
    "    fileobject.write('Olá pessoal!')\n",
    "    fileobject.write('\\n--> Hoje é: '+str(date_time))\n",
    "    \n",
    "    fileobject.close()\n"
   ]
  },
  {
   "cell_type": "code",
   "execution_count": 7,
   "metadata": {},
   "outputs": [],
   "source": [
    "# Método para escrita de arquivo\n",
    "def writeFile(filename):\n",
    "    fileobject = open(filename, 'w', encoding='utf-8')\n",
    "    fileobject.write('Abri o arquivo '+filename+' em modo de escrita!')\n",
    "    now = datetime.now()\n",
    "    date_time = now.strftime('%d/%m/%Y, %H:%M:%S')\n",
    "    fileobject.write('--> Hoje é: '+str(date_time))\n",
    "\n",
    "    fileobject.close()"
   ]
  },
  {
   "cell_type": "code",
   "execution_count": 8,
   "metadata": {},
   "outputs": [],
   "source": [
    "# Método para criação de arquivo\n",
    "def createFile(filename):\n",
    "    try:\n",
    "        fileobject = open(filename, 'x', encoding='utf-8')\n",
    "        fileobject.write('Este é um novo arquivo criado usando o modo de criação!')\n",
    "        \n",
    "        fileobject.close()\n",
    "    except FileExistsError:\n",
    "        print('\\nErro ao tentar criar arquivo! \\nO arquivo '+filename+' já existe!')"
   ]
  },
  {
   "cell_type": "markdown",
   "metadata": {},
   "source": [
    "### Executar os métodos em $main()$"
   ]
  },
  {
   "cell_type": "code",
   "execution_count": 13,
   "metadata": {},
   "outputs": [
    {
     "output_type": "execute_result",
     "data": {
      "text/plain": "'./datasets/'"
     },
     "metadata": {},
     "execution_count": 13
    }
   ],
   "source": [
    "# Verificar o diretório\n",
    "datasetPath = setDatasetPath()\n",
    "datasetPath"
   ]
  },
  {
   "cell_type": "code",
   "execution_count": 14,
   "metadata": {
    "tags": []
   },
   "outputs": [
    {
     "output_type": "stream",
     "name": "stdout",
     "text": "\u001b[96mSerá lido o seguinte arquivo: \u001b[0m./datasets/arquivoTextoRead.txt\n"
    }
   ],
   "source": [
    "# Define arquivo para leitura\n",
    "filename = datasetPath + 'arquivoTextoRead.txt'\n",
    "\n",
    "# Imprimir texto com alinhamento ao centro\n",
    "print(color.CYAN+'Será lido o seguinte arquivo: '+color.END+filename)"
   ]
  },
  {
   "cell_type": "code",
   "execution_count": 19,
   "metadata": {
    "tags": []
   },
   "outputs": [
    {
     "output_type": "stream",
     "name": "stdout",
     "text": "\u001b[1m\u001b[94m\nO conteúdo do arquivo ./datasets/arquivoTextoRead.txt é: \n\u001b[0m\nExemplo de coleta de dados em arquivos de texto.\n\nEscritor: Machado de Assis\nNome completo: Joaquim Maria Machado de Assis\nNacionalidade: Brasileira\nNatural de: Rio de Janeiro\nNascimento: 21 de junho de 1839\nMorte: 29 de setembro de 1908 (69 anos)\nCônjuge: Carolina Augusta Xavier de Novais (1869-1904)\nOcupação: Escritor, jornalista, contista, cronista, dramaturgo e poeta\nMovimento literário: Romantismo, Realismo\nFonte: https://pt.wikipedia.org/wiki/Machado_de_Assis\n"
    }
   ],
   "source": [
    "# Tudo de uma vez\n",
    "readFileContent(filename)"
   ]
  },
  {
   "cell_type": "code",
   "execution_count": 20,
   "metadata": {
    "tags": []
   },
   "outputs": [
    {
     "output_type": "stream",
     "name": "stdout",
     "text": "\u001b[1m\u001b[94m\nAs linhas do arquivo ./datasets/arquivoTextoRead.txt são: \n\u001b[0m\nLinha 1: Exemplo de coleta de dados em arquivos de texto.\nLinha 2: \nLinha 3: Escritor: Machado de Assis\nLinha 4: Nome completo: Joaquim Maria Machado de Assis\nLinha 5: Nacionalidade: Brasileira\nLinha 6: Natural de: Rio de Janeiro\nLinha 7: Nascimento: 21 de junho de 1839\nLinha 8: Morte: 29 de setembro de 1908 (69 anos)\nLinha 9: Cônjuge: Carolina Augusta Xavier de Novais (1869-1904)\nLinha 10: Ocupação: Escritor, jornalista, contista, cronista, dramaturgo e poeta\nLinha 11: Movimento literário: Romantismo, Realismo\nLinha 12: Fonte: https://pt.wikipedia.org/wiki/Machado_de_Assis"
    }
   ],
   "source": [
    "# Linha a linha\n",
    "readFileLines(filename)"
   ]
  },
  {
   "cell_type": "markdown",
   "metadata": {},
   "source": [
    "### Append em um arquivo que já existe</h2>"
   ]
  },
  {
   "cell_type": "code",
   "execution_count": 31,
   "metadata": {
    "tags": []
   },
   "outputs": [
    {
     "output_type": "stream",
     "name": "stdout",
     "text": "\u001b[1m\u001b[94m\nO conteúdo do arquivo ./datasets/arquivoTextoAppend1.txt é: \n\u001b[0m\n\n"
    }
   ],
   "source": [
    "# Abrir o arquivo em modo de alteração (append)\n",
    "filename = datasetPath + 'arquivoTextoAppend1.txt'\n",
    "# Conferindo conteúdo\n",
    "readFileContent(filename)"
   ]
  },
  {
   "cell_type": "code",
   "execution_count": 32,
   "metadata": {},
   "outputs": [],
   "source": [
    "# Invocando Append\n",
    "appendFile(filename)"
   ]
  },
  {
   "cell_type": "code",
   "execution_count": 33,
   "metadata": {
    "tags": []
   },
   "outputs": [
    {
     "output_type": "stream",
     "name": "stdout",
     "text": "\u001b[1m\u001b[94m\nO conteúdo do arquivo ./datasets/arquivoTextoAppend1.txt é: \n\u001b[0m\n\n\nOlá pessoal!\n--> Hoje é: 28/07/2020, 14:36:54\n\nOlá pessoal!\n--> Hoje é: 28/07/2020, 14:36:54\n"
    }
   ],
   "source": [
    "# Ler o resultado\n",
    "readFileContent(filename)"
   ]
  },
  {
   "cell_type": "markdown",
   "metadata": {},
   "source": [
    "### Criar uma arquivo e fazer append"
   ]
  },
  {
   "cell_type": "code",
   "execution_count": 34,
   "metadata": {
    "tags": []
   },
   "outputs": [
    {
     "output_type": "stream",
     "name": "stdout",
     "text": "\u001b[1m\u001b[91m\nErro ao tentar ler o arquivo! \nO arquivo ./datasets/arquivoTextoAppend2.txt não existe!\u001b[0m\n"
    }
   ],
   "source": [
    "filename = datasetPath + 'arquivoTextoAppend2.txt'\n",
    "readFileContent(filename)"
   ]
  },
  {
   "cell_type": "code",
   "execution_count": 35,
   "metadata": {
    "tags": []
   },
   "outputs": [
    {
     "output_type": "stream",
     "name": "stdout",
     "text": "\u001b[1m\u001b[94m\nO conteúdo do arquivo ./datasets/arquivoTextoAppend2.txt é: \n\u001b[0m\n\n\nOlá pessoal!\n--> Hoje é: 28/07/2020, 14:40:57\n\nOlá pessoal!\n--> Hoje é: 28/07/2020, 14:40:57\n"
    }
   ],
   "source": [
    "appendFile(filename)\n",
    "readFileContent(filename)"
   ]
  },
  {
   "cell_type": "markdown",
   "metadata": {},
   "source": [
    "### Escrever em um arquivo existente"
   ]
  },
  {
   "cell_type": "code",
   "execution_count": 38,
   "metadata": {
    "tags": []
   },
   "outputs": [
    {
     "output_type": "stream",
     "name": "stdout",
     "text": "\u001b[1m\u001b[94m\nO conteúdo do arquivo ./datasets/arquivoTextoWrite1.txt é: \n\u001b[0m\nAbri o arquivo ./datasets/arquivoTextoWrite1.txt em modo de escrita!--> Hoje é: 28/07/2020, 14:44:23\n"
    }
   ],
   "source": [
    "filename = datasetPath + 'arquivoTextoWrite1.txt'\n",
    "readFileContent(filename)"
   ]
  },
  {
   "cell_type": "code",
   "execution_count": 39,
   "metadata": {},
   "outputs": [],
   "source": []
  },
  {
   "cell_type": "code",
   "execution_count": 40,
   "metadata": {
    "tags": []
   },
   "outputs": [
    {
     "output_type": "stream",
     "name": "stdout",
     "text": "\u001b[1m\u001b[94m\nO conteúdo do arquivo ./datasets/arquivoTextoWrite1.txt é: \n\u001b[0m\nAbri o arquivo ./datasets/arquivoTextoWrite1.txt em modo de escrita!--> Hoje é: 28/07/2020, 14:44:33\n"
    }
   ],
   "source": [
    "writeFile(filename)\n",
    "readFileContent(filename)"
   ]
  },
  {
   "cell_type": "markdown",
   "metadata": {},
   "source": [
    "### Escrever em um arquivo não existente"
   ]
  },
  {
   "cell_type": "code",
   "execution_count": 41,
   "metadata": {
    "tags": []
   },
   "outputs": [
    {
     "output_type": "stream",
     "name": "stdout",
     "text": "\u001b[1m\u001b[91m\nErro ao tentar ler o arquivo! \nO arquivo ./datasets/arquivoTextoWrite2.txt não existe!\u001b[0m\n"
    }
   ],
   "source": [
    "filename = datasetPath + 'arquivoTextoWrite2.txt'\n",
    "readFileContent(filename)"
   ]
  },
  {
   "cell_type": "code",
   "execution_count": 42,
   "metadata": {
    "tags": []
   },
   "outputs": [
    {
     "output_type": "stream",
     "name": "stdout",
     "text": "\u001b[1m\u001b[94m\nO conteúdo do arquivo ./datasets/arquivoTextoWrite2.txt é: \n\u001b[0m\nAbri o arquivo ./datasets/arquivoTextoWrite2.txt em modo de escrita!--> Hoje é: 28/07/2020, 14:48:13\n"
    }
   ],
   "source": [
    "writeFile(filename)\n",
    "readFileContent(filename)"
   ]
  },
  {
   "cell_type": "markdown",
   "metadata": {},
   "source": [
    "### Listar arquivos do diretório"
   ]
  },
  {
   "cell_type": "code",
   "execution_count": 48,
   "metadata": {
    "tags": []
   },
   "outputs": [
    {
     "output_type": "stream",
     "name": "stdout",
     "text": "O diretório de trabalho é: \u001b[94m/home/vcwild/Projects/igti/data-science/notebooks\u001b[0m\n"
    }
   ],
   "source": [
    "working_dir = os.getcwd()\n",
    "print(f'O diretório de trabalho é: {color.BLUE}{working_dir}{color.END}')"
   ]
  },
  {
   "cell_type": "markdown",
   "metadata": {},
   "source": [
    "### Ler arquivos do diretório"
   ]
  },
  {
   "cell_type": "code",
   "execution_count": 49,
   "metadata": {
    "tags": []
   },
   "outputs": [
    {
     "output_type": "stream",
     "name": "stdout",
     "text": "A lista de arquivos e/ou diretórios é: \n\u001b[94m['arquivoTextoAppend2.txt', 'arquivoTextoWrite2.txt', 'arquivoTextoAppend1.txt', 'arquivoTextoWrite1.txt', 'arquivoTextoRead.txt']\u001b[0m\n"
    }
   ],
   "source": [
    "filelist = os.listdir(datasetPath)\n",
    "print(f'A lista de arquivos e/ou diretórios é: \\n{color.BLUE}{filelist}{color.END}')"
   ]
  },
  {
   "cell_type": "markdown",
   "metadata": {},
   "source": [
    "### Ler o conteúdo de cada arquivo do diretório"
   ]
  },
  {
   "cell_type": "code",
   "execution_count": 57,
   "metadata": {
    "tags": []
   },
   "outputs": [
    {
     "output_type": "stream",
     "name": "stdout",
     "text": "\u001b[1m\u001b[94m\ntarget é um diretório!\u001b[0m\n\u001b[1m\nLendo conteúdo do arquivo: \u001b[0m\u001b[96m./datasets/arquivoTextoAppend2.txt\u001b[0m\n\n\nOlá pessoal!\n--> Hoje é: 28/07/2020, 14:40:57\n\nOlá pessoal!\n--> Hoje é: 28/07/2020, 14:40:57\n\u001b[1m\nLendo conteúdo do arquivo: \u001b[0m\u001b[96m./datasets/arquivoTextoWrite2.txt\u001b[0m\nAbri o arquivo ./datasets/arquivoTextoWrite2.txt em modo de escrita!--> Hoje é: 28/07/2020, 14:48:13\n\u001b[1m\nLendo conteúdo do arquivo: \u001b[0m\u001b[96m./datasets/arquivoTextoAppend1.txt\u001b[0m\n\n\nOlá pessoal!\n--> Hoje é: 28/07/2020, 14:36:54\n\nOlá pessoal!\n--> Hoje é: 28/07/2020, 14:36:54\n\u001b[1m\nLendo conteúdo do arquivo: \u001b[0m\u001b[96m./datasets/arquivoTextoWrite1.txt\u001b[0m\nAbri o arquivo ./datasets/arquivoTextoWrite1.txt em modo de escrita!--> Hoje é: 28/07/2020, 14:44:33\n\u001b[1m\nLendo conteúdo do arquivo: \u001b[0m\u001b[96m./datasets/arquivoTextoRead.txt\u001b[0m\nExemplo de coleta de dados em arquivos de texto.\n\nEscritor: Machado de Assis\nNome completo: Joaquim Maria Machado de Assis\nNacionalidade: Brasileira\nNatural de: Rio de Janeiro\nNascimento: 21 de junho de 1839\nMorte: 29 de setembro de 1908 (69 anos)\nCônjuge: Carolina Augusta Xavier de Novais (1869-1904)\nOcupação: Escritor, jornalista, contista, cronista, dramaturgo e poeta\nMovimento literário: Romantismo, Realismo\nFonte: https://pt.wikipedia.org/wiki/Machado_de_Assis\n"
    }
   ],
   "source": [
    "for filename in os.listdir(datasetPath):\n",
    "    if os.path.isfile(os.path.join(datasetPath, filename)):\n",
    "        fullfilename = datasetPath + filename\n",
    "        try:\n",
    "            print(color.BOLD+'\\nLendo conteúdo do arquivo: '+color.END+color.CYAN+fullfilename+color.END)\n",
    "            fileobject = open(fullfilename, 'r', encoding='utf-8')\n",
    "            if fileobject.mode == 'r':\n",
    "                filecontents = fileobject.read()\n",
    "                print(filecontents)\n",
    "            fileobject.close()\n",
    "        except FileNotFoundError:\n",
    "            print(color.BOLD+color.RED+'\\nErro: Arquivo não existe! \\n'+color.END)\n",
    "    else:\n",
    "        print(color.BOLD+color.BLUE+'\\n'+filename+' é um diretório!'+color.END)"
   ]
  },
  {
   "cell_type": "markdown",
   "metadata": {},
   "source": [
    "### Remover todos arquivos de um diretório"
   ]
  },
  {
   "cell_type": "code",
   "execution_count": 52,
   "metadata": {},
   "outputs": [
    {
     "output_type": "execute_result",
     "data": {
      "text/plain": "'./datasets/target/'"
     },
     "metadata": {},
     "execution_count": 52
    }
   ],
   "source": [
    "# Listar o diretório destino\n",
    "folder = setDatasetPath() +'target/'\n",
    "folder"
   ]
  },
  {
   "cell_type": "code",
   "execution_count": 59,
   "metadata": {},
   "outputs": [
    {
     "output_type": "execute_result",
     "data": {
      "text/plain": "['arquivoTextoAppend2.txt',\n 'arquivoTextoWrite2.txt',\n 'arquivoTextoAppend1.txt',\n 'arquivoTextoWrite1.txt',\n 'arquivoTextoRead.txt']"
     },
     "metadata": {},
     "execution_count": 59
    }
   ],
   "source": [
    "# Listar arquivos existentes no diretório\n",
    "filelist = os.listdir(folder)\n",
    "filelist"
   ]
  },
  {
   "cell_type": "code",
   "execution_count": 60,
   "metadata": {
    "tags": []
   },
   "outputs": [
    {
     "output_type": "stream",
     "name": "stdout",
     "text": "\nLista de arquivos após a exclusão: \n[]\n"
    }
   ],
   "source": [
    "for filename in os.listdir(folder):\n",
    "    try:\n",
    "        if os.path.isfile(os.path.join(folder, filename)):\n",
    "            filepath = os.path.join(folder, filename)\n",
    "            os.unlink(filepath)\n",
    "    except Exception as error:\n",
    "        print(f'Falha ao excluir {color.CYAN}{filepath}{color.END}\\nRazão da falha: {color.BLUE}{error}{color.END}')\n",
    "\n",
    "filelist = os.listdir(folder)\n",
    "print('\\nLista de arquivos após a exclusão: ', sep='')\n",
    "print(filelist)"
   ]
  },
  {
   "cell_type": "markdown",
   "metadata": {},
   "source": [
    "### Movendo arquivos entre pastas"
   ]
  },
  {
   "cell_type": "code",
   "execution_count": 63,
   "metadata": {
    "tags": []
   },
   "outputs": [
    {
     "output_type": "stream",
     "name": "stdout",
     "text": "Arquivos na origem: \n['arquivoTextoAppend2.txt', 'arquivoTextoRead.txt']\nArquivos no destino: \n[]\n"
    }
   ],
   "source": [
    "folderSource = setDatasetPath() + 'src/'\n",
    "folderTarget = setDatasetPath() + 'target/'\n",
    "sourceList = os.listdir(folderSource)\n",
    "targetList = os.listdir(folderTarget)\n",
    "\n",
    "print('Arquivos na origem: ', sep='')\n",
    "print(sourceList)\n",
    "print('Arquivos no destino: ',sep='')\n",
    "print(targetList)"
   ]
  },
  {
   "cell_type": "code",
   "execution_count": 65,
   "metadata": {
    "tags": []
   },
   "outputs": [
    {
     "output_type": "stream",
     "name": "stdout",
     "text": "Arquivos na origem: \n[]\nArquivos no destino: \n['arquivoTextoAppend2.txt', 'arquivoTextoRead.txt']\n"
    }
   ],
   "source": [
    "for filename in sourceList:\n",
    "    try:\n",
    "        if os.path.isfile(os.path.join(folderSource, filename)):\n",
    "            filepath = os.path.join(folderSource, filename)\n",
    "            shutil.move(filepath, folderTarget)\n",
    "    except Exception as error:\n",
    "        print(f'Falha ao excluir {color.CYAN}{filepath}{color.END}\\nRazão da falha: {color.BLUE}{error}{color.END}')\n",
    "\n",
    "sourceList = os.listdir(folderSource)\n",
    "targetList = os.listdir(folderTarget)\n",
    "\n",
    "print('Arquivos na origem: ', sep='')\n",
    "print(sourceList)\n",
    "print('Arquivos no destino: ',sep='')\n",
    "print(targetList)"
   ]
  },
  {
   "cell_type": "markdown",
   "metadata": {},
   "source": [
    "### Copiando arquivos entre diretórios"
   ]
  },
  {
   "cell_type": "code",
   "execution_count": 66,
   "metadata": {
    "tags": []
   },
   "outputs": [
    {
     "output_type": "stream",
     "name": "stdout",
     "text": "Arquivos na origem: \n['arquivoTextoAppend2.txt', 'arquivoTextoRead.txt']\nArquivos no destino: \n['arquivoTextoAppend2.txt', 'arquivoTextoRead.txt']\n"
    }
   ],
   "source": [
    "sourceList = os.listdir(folderSource)\n",
    "targetList = os.listdir(folderTarget)\n",
    "\n",
    "for filename in targetList:\n",
    "    try:\n",
    "        if os.path.isfile(os.path.join(folderTarget, filename)):\n",
    "            origin = os.path.join(folderTarget, filename)\n",
    "            destination = os.path.join(folderSource, filename)\n",
    "            shutil.copy(origin, destination)\n",
    "    except Exception as error:\n",
    "        print(f'Falha ao excluir {color.CYAN}{filepath}{color.END}\\nRazão da falha: {color.BLUE}{error}{color.END}')\n",
    "\n",
    "sourceList = os.listdir(folderSource)\n",
    "targetList = os.listdir(folderTarget)\n",
    "\n",
    "print('Arquivos na origem: ', sep='')\n",
    "print(sourceList)\n",
    "print('Arquivos no destino: ',sep='')\n",
    "print(targetList)"
   ]
  },
  {
   "cell_type": "markdown",
   "metadata": {},
   "source": [
    "### Renomeando arquivo"
   ]
  },
  {
   "cell_type": "code",
   "execution_count": 69,
   "metadata": {
    "tags": []
   },
   "outputs": [
    {
     "output_type": "stream",
     "name": "stdout",
     "text": "\nLista de Arquivos: \n['arquivoTextoAppend2.txt', 'arquivoTextoRead.txt', 'arquivoTexto.txt']\n"
    }
   ],
   "source": [
    "filenameSource = 'arquivoTexto.txt'\n",
    "filenameTarget = 'arquivoTextoRenomeado.txt'\n",
    "\n",
    "old_file = os.path.join(folderTarget, filenameSource)\n",
    "new_file = os.path.join(folderTarget, filenameTarget)\n",
    "\n",
    "filelist = os.listdir(folderTarget)\n",
    "print('\\nLista de Arquivos: ', sep='')\n",
    "print(filelist)"
   ]
  },
  {
   "cell_type": "code",
   "execution_count": 70,
   "metadata": {
    "tags": []
   },
   "outputs": [
    {
     "output_type": "stream",
     "name": "stdout",
     "text": "\nLista de arquivos após renomear: \n['arquivoTextoRenomeado.txt', 'arquivoTextoAppend2.txt', 'arquivoTextoRead.txt']\n"
    }
   ],
   "source": [
    "os.rename(old_file, new_file)\n",
    "filelist = os.listdir(folderTarget)\n",
    "print('\\nLista de arquivos após renomear: ', sep='')\n",
    "print(filelist)"
   ]
  }
 ],
 "metadata": {
  "language_info": {
   "codemirror_mode": {
    "name": "ipython",
    "version": 3
   },
   "file_extension": ".py",
   "mimetype": "text/x-python",
   "name": "python",
   "nbconvert_exporter": "python",
   "pygments_lexer": "ipython3",
   "version": 3
  },
  "orig_nbformat": 2,
  "kernelspec": {
   "name": "python_defaultSpec_1595954522932",
   "display_name": "Python 3.7.7 64-bit ('codenation': conda)"
  }
 },
 "nbformat": 4,
 "nbformat_minor": 2
}